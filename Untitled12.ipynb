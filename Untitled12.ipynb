{
  "cells": [
    {
      "cell_type": "markdown",
      "metadata": {
        "id": "view-in-github",
        "colab_type": "text"
      },
      "source": [
        "<a href=\"https://colab.research.google.com/github/zephyrs12/Breast_cancer/blob/main/Untitled12.ipynb\" target=\"_parent\"><img src=\"https://colab.research.google.com/assets/colab-badge.svg\" alt=\"Open In Colab\"/></a>"
      ]
    },
    {
      "cell_type": "code",
      "execution_count": 1,
      "metadata": {
        "id": "VA-LMsLghWbZ"
      },
      "outputs": [],
      "source": [
        "import pandas as  pd\n",
        "import tensorflow as tf\n",
        "import numpy as np\n",
        "import matplotlib.pyplot as plt\n",
        "from tensorflow.keras.datasets import cifar10"
      ]
    },
    {
      "cell_type": "code",
      "execution_count": 2,
      "metadata": {
        "colab": {
          "base_uri": "https://localhost:8080/"
        },
        "id": "2nVFpEpKh1xk",
        "outputId": "124ad46f-9a7d-44eb-a384-a233accd02a3"
      },
      "outputs": [
        {
          "output_type": "stream",
          "name": "stdout",
          "text": [
            "Downloading data from https://www.cs.toronto.edu/~kriz/cifar-10-python.tar.gz\n",
            "170498071/170498071 [==============================] - 2s 0us/step\n"
          ]
        }
      ],
      "source": [
        "(X_train,Y_train),(X_test,Y_test)=cifar10.load_data()"
      ]
    },
    {
      "cell_type": "code",
      "execution_count": 3,
      "metadata": {
        "colab": {
          "base_uri": "https://localhost:8080/"
        },
        "id": "fSIwnKWiinp_",
        "outputId": "4412fabb-5bd8-41a3-9fb3-9e136081c27e"
      },
      "outputs": [
        {
          "output_type": "execute_result",
          "data": {
            "text/plain": [
              "(10000, 32, 32, 3)"
            ]
          },
          "metadata": {},
          "execution_count": 3
        }
      ],
      "source": [
        "X_test.shape"
      ]
    },
    {
      "cell_type": "code",
      "execution_count": 4,
      "metadata": {
        "colab": {
          "base_uri": "https://localhost:8080/"
        },
        "id": "jmBKujZel9Bl",
        "outputId": "d8f25a35-62ee-4fa3-a83b-e206989cd915"
      },
      "outputs": [
        {
          "output_type": "execute_result",
          "data": {
            "text/plain": [
              "(50000, 32, 32, 3)"
            ]
          },
          "metadata": {},
          "execution_count": 4
        }
      ],
      "source": [
        "X_train.shape"
      ]
    },
    {
      "cell_type": "code",
      "execution_count": 5,
      "metadata": {
        "colab": {
          "base_uri": "https://localhost:8080/"
        },
        "id": "L9_fX6oEmEEC",
        "outputId": "266a2cdd-17e5-4ab0-84a4-da458176ce27"
      },
      "outputs": [
        {
          "output_type": "execute_result",
          "data": {
            "text/plain": [
              "array([[6],\n",
              "       [9],\n",
              "       [9],\n",
              "       [4],\n",
              "       [1]], dtype=uint8)"
            ]
          },
          "metadata": {},
          "execution_count": 5
        }
      ],
      "source": [
        "Y_train[:5]"
      ]
    },
    {
      "cell_type": "code",
      "execution_count": 6,
      "metadata": {
        "id": "xx344VKOm3xg"
      },
      "outputs": [],
      "source": [
        "Y_train=Y_train.reshape(-1,)"
      ]
    },
    {
      "cell_type": "code",
      "execution_count": 7,
      "metadata": {
        "id": "lz_AD18UnLRf"
      },
      "outputs": [],
      "source": [
        "classes=['airplane','automobile','bird','cat','deer','dog','frog','horse','ship','truck']"
      ]
    },
    {
      "cell_type": "code",
      "execution_count": 8,
      "metadata": {
        "id": "qPduAbIGn-hC"
      },
      "outputs": [],
      "source": [
        "def plot_sample(X,Y,index):\n",
        "  plt.figure(figsize=(5,2))\n",
        "  plt.imshow(X[index])\n",
        "  plt.xlabel(classes[Y[index]])"
      ]
    },
    {
      "cell_type": "code",
      "execution_count": 9,
      "metadata": {
        "colab": {
          "base_uri": "https://localhost:8080/",
          "height": 237
        },
        "id": "tSyaWWBco3e1",
        "outputId": "8a67f512-628a-4448-8209-b164c4c01284"
      },
      "outputs": [
        {
          "output_type": "display_data",
          "data": {
            "text/plain": [
              "<Figure size 500x200 with 1 Axes>"
            ],
            "image/png": "[encoded data removed]"
          },
          "metadata": {}
        }
      ],
      "source": [
        "plot_sample(X_train,Y_train,300\n",
        ")"
      ]
    },
    {
      "cell_type": "code",
      "execution_count": 10,
      "metadata": {
        "id": "KWTV-uERpAeK"
      },
      "outputs": [],
      "source": [
        "X_train=X_train/255.0\n",
        "X_test=X_test/255.0"
      ]
    },
    {
      "cell_type": "code",
      "execution_count": 11,
      "metadata": {
        "id": "kpWCz8NkrtbF"
      },
      "outputs": [],
      "source": [
        "model=tf.keras.Sequential([\n",
        "    tf.keras.layers.Flatten(input_shape=(32,32,3)),\n",
        "    tf.keras.layers.Dense(3000,activation='relu'),\n",
        "    tf.keras.layers.Dense(1000,activation='relu'),\n",
        "    tf.keras.layers.Dense(10,activation='softmax')\n",
        "])"
      ]
    },
    {
      "cell_type": "code",
      "execution_count": 12,
      "metadata": {
        "id": "QkBIFZcUs59q"
      },
      "outputs": [],
      "source": [
        "model.compile(optimizer='SGD',\n",
        "  loss='sparse_categorical_crossentropy',\n",
        "  metrics=['accuracy'])"
      ]
    },
    {
      "cell_type": "code",
      "execution_count": 13,
      "metadata": {
        "colab": {
          "base_uri": "https://localhost:8080/"
        },
        "id": "dBAoKPGbt3ms",
        "outputId": "7f5b9a68-c468-4c0a-d3d2-9816ae87aa51"
      },
      "outputs": [
        {
          "output_type": "stream",
          "name": "stdout",
          "text": [
            "Epoch 1/5\n",
            "1563/1563 [==============================] - 151s 96ms/step - loss: 1.8149 - accuracy: 0.3533\n",
            "Epoch 2/5\n",
            "1563/1563 [==============================] - 149s 95ms/step - loss: 1.6234 - accuracy: 0.4297\n",
            "Epoch 3/5\n",
            "1563/1563 [==============================] - 143s 91ms/step - loss: 1.5416 - accuracy: 0.4548\n",
            "Epoch 4/5\n",
            "1563/1563 [==============================] - 145s 93ms/step - loss: 1.4813 - accuracy: 0.4789\n",
            "Epoch 5/5\n",
            "1563/1563 [==============================] - 143s 91ms/step - loss: 1.4319 - accuracy: 0.4945\n"
          ]
        }
      ],
      "source": [
        "history=model.fit(X_train,Y_train,epochs=5)"
      ]
    },
    {
      "cell_type": "code",
      "execution_count": 14,
      "metadata": {
        "colab": {
          "base_uri": "https://localhost:8080/",
          "height": 472
        },
        "id": "txpm-3JguRjO",
        "outputId": "cef1bc31-70c2-44d6-f520-1cc1a389c7e7"
      },
      "outputs": [
        {
          "output_type": "display_data",
          "data": {
            "text/plain": [
              "<Figure size 640x480 with 1 Axes>"
            ],
            "image/png": "[encoded data removed]"
          },
          "metadata": {}
        }
      ],
      "source": [
        "plt.plot(history.history['accuracy'])\n",
        "\n",
        "plt.title('model accuracy')\n",
        "\n",
        "plt.xlabel('epoch')\n",
        "plt.ylabel('accuracy')\n",
        "plt.show()"
      ]
    },
    {
      "cell_type": "code",
      "execution_count": 15,
      "metadata": {
        "colab": {
          "base_uri": "https://localhost:8080/",
          "height": 489
        },
        "id": "yOHQb8kv4MM0",
        "outputId": "b9c4c1ca-9ff6-4978-a405-05c666cf2b1a"
      },
      "outputs": [
        {
          "output_type": "execute_result",
          "data": {
            "text/plain": [
              "Text(0, 0.5, 'loss')"
            ]
          },
          "metadata": {},
          "execution_count": 15
        },
        {
          "output_type": "display_data",
          "data": {
            "text/plain": [
              "<Figure size 640x480 with 1 Axes>"
            ],
            "image/png": "[encoded data removed]"
          },
          "metadata": {}
        }
      ],
      "source": [
        "plt.plot(history.history['loss'])\n",
        "plt.title('model loss')\n",
        "plt.xlabel('epoch')\n",
        "plt.ylabel('loss')"
      ]
    },
    {
      "cell_type": "code",
      "execution_count": 16,
      "metadata": {
        "id": "EeumG1jP6dag"
      },
      "outputs": [],
      "source": [
        "from sklearn.metrics import classification_report, confusion_matrix"
      ]
    },
    {
      "cell_type": "code",
      "execution_count": 17,
      "metadata": {
        "id": "b5lUFiU-Ff2-"
      },
      "outputs": [],
      "source": [
        "import numpy as np"
      ]
    },
    {
      "cell_type": "code",
      "execution_count": 18,
      "metadata": {
        "colab": {
          "base_uri": "https://localhost:8080/"
        },
        "id": "AkKnMk5hFih-",
        "outputId": "e099012f-ec72-411c-da39-b9a11708af77"
      },
      "outputs": [
        {
          "output_type": "stream",
          "name": "stdout",
          "text": [
            "313/313 [==============================] - 10s 31ms/step\n",
            "classification report : \n",
            "               precision    recall  f1-score   support\n",
            "\n",
            "           0       0.57      0.53      0.55      1000\n",
            "           1       0.53      0.62      0.57      1000\n",
            "           2       0.39      0.33      0.36      1000\n",
            "           3       0.37      0.26      0.31      1000\n",
            "           4       0.53      0.18      0.27      1000\n",
            "           5       0.46      0.29      0.35      1000\n",
            "           6       0.39      0.73      0.50      1000\n",
            "           7       0.60      0.48      0.53      1000\n",
            "           8       0.64      0.55      0.59      1000\n",
            "           9       0.39      0.72      0.51      1000\n",
            "\n",
            "    accuracy                           0.47     10000\n",
            "   macro avg       0.49      0.47      0.45     10000\n",
            "weighted avg       0.49      0.47      0.45     10000\n",
            "\n"
          ]
        }
      ],
      "source": [
        "Y_pred=model.predict(X_test)\n",
        "Y_pred_classes=[np.argmax(element) for element in Y_pred]\n",
        "print('classification report : \\n', classification_report(Y_test,Y_pred_classes))"
      ]
    },
    {
      "cell_type": "code",
      "execution_count": 19,
      "metadata": {
        "id": "VZS6T_AHS4v0"
      },
      "outputs": [],
      "source": [
        "from tensorflow.keras import layers,models\n"
      ]
    },
    {
      "cell_type": "code",
      "execution_count": 20,
      "metadata": {
        "id": "hNEGbskDTsEw"
      },
      "outputs": [],
      "source": [
        "model = models.Sequential()\n",
        "model.add(layers.Conv2D(32, (3, 3), activation='relu', input_shape=(32, 32, 3)))\n",
        "model.add(layers.MaxPooling2D((2, 2)))\n",
        "model.add(layers.Conv2D(64, (3, 3), activation='relu'))\n",
        "model.add(layers.MaxPooling2D((2, 2)))\n",
        "model.add(layers.Conv2D(64, (3, 3), activation='relu'))\n",
        "model.add(layers.Flatten())\n",
        "model.add(layers.Dense(3000,activation='relu'))\n",
        "model.add(layers.Dense(1000,activation='relu'))\n",
        "model.add(layers.Dense(10,activation='softmax'))"
      ]
    },
    {
      "cell_type": "code",
      "execution_count": 21,
      "metadata": {
        "id": "ZzPlU5WfQ4Zd"
      },
      "outputs": [],
      "source": [
        "model.compile(optimizer='adam',\n",
        "              loss='sparse_categorical_crossentropy',\n",
        "              metrics=['accuracy'])"
      ]
    },
    {
      "cell_type": "code",
      "execution_count": 22,
      "metadata": {
        "colab": {
          "base_uri": "https://localhost:8080/"
        },
        "id": "_eKLnH_YVQKf",
        "outputId": "cf7416aa-9f45-42b5-fa90-18745eae4198"
      },
      "outputs": [
        {
          "output_type": "stream",
          "name": "stdout",
          "text": [
            "Epoch 1/20\n",
            "1563/1563 [==============================] - 203s 129ms/step - loss: 1.4232 - accuracy: 0.4836\n",
            "Epoch 2/20\n",
            "1563/1563 [==============================] - 200s 128ms/step - loss: 1.0593 - accuracy: 0.6257\n",
            "Epoch 3/20\n",
            "1563/1563 [==============================] - 192s 123ms/step - loss: 0.8732 - accuracy: 0.6924\n",
            "Epoch 4/20\n",
            "1563/1563 [==============================] - 195s 125ms/step - loss: 0.7323 - accuracy: 0.7398\n",
            "Epoch 5/20\n",
            "1563/1563 [==============================] - 193s 124ms/step - loss: 0.5863 - accuracy: 0.7907\n",
            "Epoch 6/20\n",
            "1563/1563 [==============================] - 194s 124ms/step - loss: 0.4519 - accuracy: 0.8399\n",
            "Epoch 7/20\n",
            "1563/1563 [==============================] - 198s 126ms/step - loss: 0.3333 - accuracy: 0.8813\n",
            "Epoch 8/20\n",
            "1563/1563 [==============================] - 195s 125ms/step - loss: 0.2599 - accuracy: 0.9089\n",
            "Epoch 9/20\n",
            "1563/1563 [==============================] - 191s 122ms/step - loss: 0.2033 - accuracy: 0.9304\n",
            "Epoch 10/20\n",
            "1563/1563 [==============================] - 195s 125ms/step - loss: 0.1672 - accuracy: 0.9423\n",
            "Epoch 11/20\n",
            "1563/1563 [==============================] - 194s 124ms/step - loss: 0.1582 - accuracy: 0.9462\n",
            "Epoch 12/20\n",
            "1563/1563 [==============================] - 194s 124ms/step - loss: 0.1370 - accuracy: 0.9543\n",
            "Epoch 13/20\n",
            "1563/1563 [==============================] - 194s 124ms/step - loss: 0.1219 - accuracy: 0.9591\n",
            "Epoch 14/20\n",
            "1563/1563 [==============================] - 193s 124ms/step - loss: 0.1225 - accuracy: 0.9601\n",
            "Epoch 15/20\n",
            "1563/1563 [==============================] - 192s 122ms/step - loss: 0.1197 - accuracy: 0.9627\n",
            "Epoch 16/20\n",
            "1563/1563 [==============================] - 193s 123ms/step - loss: 0.1136 - accuracy: 0.9641\n",
            "Epoch 17/20\n",
            "1563/1563 [==============================] - 193s 123ms/step - loss: 0.1097 - accuracy: 0.9656\n",
            "Epoch 18/20\n",
            "1563/1563 [==============================] - 196s 125ms/step - loss: 0.1014 - accuracy: 0.9694\n",
            "Epoch 19/20\n",
            "1563/1563 [==============================] - 193s 124ms/step - loss: 0.0977 - accuracy: 0.9696\n",
            "Epoch 20/20\n",
            "1563/1563 [==============================] - 192s 123ms/step - loss: 0.1012 - accuracy: 0.9692\n"
          ]
        },
        {
          "output_type": "execute_result",
          "data": {
            "text/plain": [
              "<keras.src.callbacks.History at 0x7ea3fc906ce0>"
            ]
          },
          "metadata": {},
          "execution_count": 22
        }
      ],
      "source": [
        "model.fit(X_train,Y_train,epochs=20)"
      ]
    },
    {
      "cell_type": "code",
      "execution_count": 30,
      "metadata": {
        "id": "LpioceflVXTq",
        "colab": {
          "base_uri": "https://localhost:8080/"
        },
        "outputId": "40b23406-2d39-460d-e1c0-cd54f409ce01"
      },
      "outputs": [
        {
          "output_type": "stream",
          "name": "stdout",
          "text": [
            "313/313 [==============================] - 12s 36ms/step - loss: 2.2848 - accuracy: 0.6923\n"
          ]
        },
        {
          "output_type": "execute_result",
          "data": {
            "text/plain": [
              "[2.2847676277160645, 0.692300021648407]"
            ]
          },
          "metadata": {},
          "execution_count": 30
        }
      ],
      "source": [
        "model.evaluate(X_test,Y_test)"
      ]
    },
    {
      "cell_type": "code",
      "source": [
        "Y_pred=model.predict(X_test)"
      ],
      "metadata": {
        "colab": {
          "base_uri": "https://localhost:8080/"
        },
        "id": "NchAYFFg9oLV",
        "outputId": "02114feb-ae43-4704-ce79-0051eb07c1f3"
      },
      "execution_count": 31,
      "outputs": [
        {
          "output_type": "stream",
          "name": "stdout",
          "text": [
            "313/313 [==============================] - 10s 30ms/step\n"
          ]
        }
      ]
    },
    {
      "cell_type": "code",
      "source": [
        "Y_classes=[np.argmax(element) for element in Y_pred]\n",
        "Y_classes[:5]"
      ],
      "metadata": {
        "colab": {
          "base_uri": "https://localhost:8080/"
        },
        "id": "awo8B5fj_-FI",
        "outputId": "b1ed1f78-f529-4c80-a4df-989babe836e0"
      },
      "execution_count": 34,
      "outputs": [
        {
          "output_type": "execute_result",
          "data": {
            "text/plain": [
              "[3, 8, 9, 0, 6]"
            ]
          },
          "metadata": {},
          "execution_count": 34
        }
      ]
    },
    {
      "cell_type": "code",
      "source": [
        "y_test=Y_test.reshape(-1,)"
      ],
      "metadata": {
        "id": "OuyigB1RBhsu"
      },
      "execution_count": 52,
      "outputs": []
    },
    {
      "cell_type": "code",
      "source": [
        "y_test[:5]"
      ],
      "metadata": {
        "colab": {
          "base_uri": "https://localhost:8080/"
        },
        "id": "rX-90SutCHCo",
        "outputId": "e365997d-9314-4ed4-9b50-4f5f7391e096"
      },
      "execution_count": 54,
      "outputs": [
        {
          "output_type": "execute_result",
          "data": {
            "text/plain": [
              "array([3, 8, 8, 0, 6], dtype=uint8)"
            ]
          },
          "metadata": {},
          "execution_count": 54
        }
      ]
    },
    {
      "cell_type": "code",
      "source": [
        "plot_sample(X_test,y_test,50)"
      ],
      "metadata": {
        "colab": {
          "base_uri": "https://localhost:8080/",
          "height": 237
        },
        "id": "qaYJgolnE5EZ",
        "outputId": "8f68a05a-8b71-4439-a62c-ceefe0211d56"
      },
      "execution_count": 56,
      "outputs": [
        {
          "output_type": "display_data",
          "data": {
            "text/plain": [
              "<Figure size 500x200 with 1 Axes>"
            ],
            "image/png": "[encoded data removed]"
          },
          "metadata": {}
        }
      ]
    },
    {
      "cell_type": "code",
      "source": [],
      "metadata": {
        "id": "Dl4TmV9lE9gV"
      },
      "execution_count": null,
      "outputs": []
    }
  ],
  "metadata": {
    "colab": {
      "provenance": [],
      "authorship_tag": "ABX9TyNpRU6Hg1xD9mLtJuTlFPA/",
      "include_colab_link": true
    },
    "kernelspec": {
      "display_name": "Python 3",
      "name": "python3"
    },
    "language_info": {
      "name": "python"
    }
  },
  "nbformat": 4,
  "nbformat_minor": 0
}