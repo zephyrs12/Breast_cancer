{
  "nbformat": 4,
  "nbformat_minor": 0,
  "metadata": {
    "colab": {
      "provenance": []
    },
    "kernelspec": {
      "name": "python3",
      "display_name": "Python 3"
    },
    "language_info": {
      "name": "python"
    }
  },
  "cells": [
    {
      "cell_type": "code",
      "source": [
        "#importing the required libraries\n",
        "import pandas as pd\n",
        "import numpy as np\n",
        "import matplotlib.pyplot as plt\n",
        "from sklearn.model_selection import train_test_split\n",
        "from sklearn.preprocessing import LabelEncoder"
      ],
      "metadata": {
        "id": "ueTGUcSqNyxZ"
      },
      "execution_count": null,
      "outputs": []
    },
    {
      "cell_type": "code",
      "source": [
        "#loading the dataset\n",
        "cancer=pd.read_csv('cancer.csv')\n",
        "lb=LabelEncoder()\n",
        "cancer.iloc[:,1]=lb.fit_transform(cancer.iloc[:,1].values)"
      ],
      "metadata": {
        "colab": {
          "base_uri": "https://localhost:8080/"
        },
        "id": "0VZDf4IkOOT-",
        "outputId": "7c4370bd-7750-4c6f-f08d-c1a062345627"
      },
      "execution_count": null,
      "outputs": [
        {
          "output_type": "stream",
          "name": "stderr",
          "text": [
            "<ipython-input-4-099b2ce03744>:3: DeprecationWarning: In a future version, `df.iloc[:, i] = newvals` will attempt to set the values inplace instead of always setting a new array. To retain the old behavior, use either `df[df.columns[i]] = newvals` or, if columns are non-unique, `df.isetitem(i, newvals)`\n",
            "  cancer.iloc[:,1]=lb.fit_transform(cancer.iloc[:,1].values)\n"
          ]
        }
      ]
    },
    {
      "cell_type": "code",
      "source": [
        "cancer.head(5)"
      ],
      "metadata": {
        "colab": {
          "base_uri": "https://localhost:8080/",
          "height": 273
        },
        "id": "EB_Cd3M3OUfg",
        "outputId": "9d329e83-ca00-4499-cfaa-a13feb5e1568"
      },
      "execution_count": null,
      "outputs": [
        {
          "output_type": "execute_result",
          "data": {
            "text/plain": [
              "         id  diagnosis  radius_mean  texture_mean  perimeter_mean  area_mean  \\\n",
              "0    842302          1        17.99         10.38          122.80     1001.0   \n",
              "1    842517          1        20.57         17.77          132.90     1326.0   \n",
              "2  84300903          1        19.69         21.25          130.00     1203.0   \n",
              "3  84348301          1        11.42         20.38           77.58      386.1   \n",
              "4  84358402          1        20.29         14.34          135.10     1297.0   \n",
              "\n",
              "   smoothness_mean  compactness_mean  concavity_mean  concave points_mean  \\\n",
              "0          0.11840           0.27760          0.3001              0.14710   \n",
              "1          0.08474           0.07864          0.0869              0.07017   \n",
              "2          0.10960           0.15990          0.1974              0.12790   \n",
              "3          0.14250           0.28390          0.2414              0.10520   \n",
              "4          0.10030           0.13280          0.1980              0.10430   \n",
              "\n",
              "   ...  texture_worst  perimeter_worst  area_worst  smoothness_worst  \\\n",
              "0  ...          17.33           184.60      2019.0            0.1622   \n",
              "1  ...          23.41           158.80      1956.0            0.1238   \n",
              "2  ...          25.53           152.50      1709.0            0.1444   \n",
              "3  ...          26.50            98.87       567.7            0.2098   \n",
              "4  ...          16.67           152.20      1575.0            0.1374   \n",
              "\n",
              "   compactness_worst  concavity_worst  concave points_worst  symmetry_worst  \\\n",
              "0             0.6656           0.7119                0.2654          0.4601   \n",
              "1             0.1866           0.2416                0.1860          0.2750   \n",
              "2             0.4245           0.4504                0.2430          0.3613   \n",
              "3             0.8663           0.6869                0.2575          0.6638   \n",
              "4             0.2050           0.4000                0.1625          0.2364   \n",
              "\n",
              "   fractal_dimension_worst  Unnamed: 32  \n",
              "0                  0.11890          NaN  \n",
              "1                  0.08902          NaN  \n",
              "2                  0.08758          NaN  \n",
              "3                  0.17300          NaN  \n",
              "4                  0.07678          NaN  \n",
              "\n",
              "[5 rows x 33 columns]"
            ],
            "text/html": [
              "\n",
              "  <div id=\"df-e253ef0c-cd47-4862-9fe0-a0f1024ef0a7\" class=\"colab-df-container\">\n",
              "    <div>\n",
              "<style scoped>\n",
              "    .dataframe tbody tr th:only-of-type {\n",
              "        vertical-align: middle;\n",
              "    }\n",
              "\n",
              "    .dataframe tbody tr th {\n",
              "        vertical-align: top;\n",
              "    }\n",
              "\n",
              "    .dataframe thead th {\n",
              "        text-align: right;\n",
              "    }\n",
              "</style>\n",
              "<table border=\"1\" class=\"dataframe\">\n",
              "  <thead>\n",
              "    <tr style=\"text-align: right;\">\n",
              "      <th></th>\n",
              "      <th>id</th>\n",
              "      <th>diagnosis</th>\n",
              "      <th>radius_mean</th>\n",
              "      <th>texture_mean</th>\n",
              "      <th>perimeter_mean</th>\n",
              "      <th>area_mean</th>\n",
              "      <th>smoothness_mean</th>\n",
              "      <th>compactness_mean</th>\n",
              "      <th>concavity_mean</th>\n",
              "      <th>concave points_mean</th>\n",
              "      <th>...</th>\n",
              "      <th>texture_worst</th>\n",
              "      <th>perimeter_worst</th>\n",
              "      <th>area_worst</th>\n",
              "      <th>smoothness_worst</th>\n",
              "      <th>compactness_worst</th>\n",
              "      <th>concavity_worst</th>\n",
              "      <th>concave points_worst</th>\n",
              "      <th>symmetry_worst</th>\n",
              "      <th>fractal_dimension_worst</th>\n",
              "      <th>Unnamed: 32</th>\n",
              "    </tr>\n",
              "  </thead>\n",
              "  <tbody>\n",
              "    <tr>\n",
              "      <th>0</th>\n",
              "      <td>842302</td>\n",
              "      <td>1</td>\n",
              "      <td>17.99</td>\n",
              "      <td>10.38</td>\n",
              "      <td>122.80</td>\n",
              "      <td>1001.0</td>\n",
              "      <td>0.11840</td>\n",
              "      <td>0.27760</td>\n",
              "      <td>0.3001</td>\n",
              "      <td>0.14710</td>\n",
              "      <td>...</td>\n",
              "      <td>17.33</td>\n",
              "      <td>184.60</td>\n",
              "      <td>2019.0</td>\n",
              "      <td>0.1622</td>\n",
              "      <td>0.6656</td>\n",
              "      <td>0.7119</td>\n",
              "      <td>0.2654</td>\n",
              "      <td>0.4601</td>\n",
              "      <td>0.11890</td>\n",
              "      <td>NaN</td>\n",
              "    </tr>\n",
              "    <tr>\n",
              "      <th>1</th>\n",
              "      <td>842517</td>\n",
              "      <td>1</td>\n",
              "      <td>20.57</td>\n",
              "      <td>17.77</td>\n",
              "      <td>132.90</td>\n",
              "      <td>1326.0</td>\n",
              "      <td>0.08474</td>\n",
              "      <td>0.07864</td>\n",
              "      <td>0.0869</td>\n",
              "      <td>0.07017</td>\n",
              "      <td>...</td>\n",
              "      <td>23.41</td>\n",
              "      <td>158.80</td>\n",
              "      <td>1956.0</td>\n",
              "      <td>0.1238</td>\n",
              "      <td>0.1866</td>\n",
              "      <td>0.2416</td>\n",
              "      <td>0.1860</td>\n",
              "      <td>0.2750</td>\n",
              "      <td>0.08902</td>\n",
              "      <td>NaN</td>\n",
              "    </tr>\n",
              "    <tr>\n",
              "      <th>2</th>\n",
              "      <td>84300903</td>\n",
              "      <td>1</td>\n",
              "      <td>19.69</td>\n",
              "      <td>21.25</td>\n",
              "      <td>130.00</td>\n",
              "      <td>1203.0</td>\n",
              "      <td>0.10960</td>\n",
              "      <td>0.15990</td>\n",
              "      <td>0.1974</td>\n",
              "      <td>0.12790</td>\n",
              "      <td>...</td>\n",
              "      <td>25.53</td>\n",
              "      <td>152.50</td>\n",
              "      <td>1709.0</td>\n",
              "      <td>0.1444</td>\n",
              "      <td>0.4245</td>\n",
              "      <td>0.4504</td>\n",
              "      <td>0.2430</td>\n",
              "      <td>0.3613</td>\n",
              "      <td>0.08758</td>\n",
              "      <td>NaN</td>\n",
              "    </tr>\n",
              "    <tr>\n",
              "      <th>3</th>\n",
              "      <td>84348301</td>\n",
              "      <td>1</td>\n",
              "      <td>11.42</td>\n",
              "      <td>20.38</td>\n",
              "      <td>77.58</td>\n",
              "      <td>386.1</td>\n",
              "      <td>0.14250</td>\n",
              "      <td>0.28390</td>\n",
              "      <td>0.2414</td>\n",
              "      <td>0.10520</td>\n",
              "      <td>...</td>\n",
              "      <td>26.50</td>\n",
              "      <td>98.87</td>\n",
              "      <td>567.7</td>\n",
              "      <td>0.2098</td>\n",
              "      <td>0.8663</td>\n",
              "      <td>0.6869</td>\n",
              "      <td>0.2575</td>\n",
              "      <td>0.6638</td>\n",
              "      <td>0.17300</td>\n",
              "      <td>NaN</td>\n",
              "    </tr>\n",
              "    <tr>\n",
              "      <th>4</th>\n",
              "      <td>84358402</td>\n",
              "      <td>1</td>\n",
              "      <td>20.29</td>\n",
              "      <td>14.34</td>\n",
              "      <td>135.10</td>\n",
              "      <td>1297.0</td>\n",
              "      <td>0.10030</td>\n",
              "      <td>0.13280</td>\n",
              "      <td>0.1980</td>\n",
              "      <td>0.10430</td>\n",
              "      <td>...</td>\n",
              "      <td>16.67</td>\n",
              "      <td>152.20</td>\n",
              "      <td>1575.0</td>\n",
              "      <td>0.1374</td>\n",
              "      <td>0.2050</td>\n",
              "      <td>0.4000</td>\n",
              "      <td>0.1625</td>\n",
              "      <td>0.2364</td>\n",
              "      <td>0.07678</td>\n",
              "      <td>NaN</td>\n",
              "    </tr>\n",
              "  </tbody>\n",
              "</table>\n",
              "<p>5 rows × 33 columns</p>\n",
              "</div>\n",
              "    <div class=\"colab-df-buttons\">\n",
              "\n",
              "  <div class=\"colab-df-container\">\n",
              "    <button class=\"colab-df-convert\" onclick=\"convertToInteractive('df-e253ef0c-cd47-4862-9fe0-a0f1024ef0a7')\"\n",
              "            title=\"Convert this dataframe to an interactive table.\"\n",
              "            style=\"display:none;\">\n",
              "\n",
              "  <svg xmlns=\"http://www.w3.org/2000/svg\" height=\"24px\" viewBox=\"0 -960 960 960\">\n",
              "    <path d=\"M120-120v-720h720v720H120Zm60-500h600v-160H180v160Zm220 220h160v-160H400v160Zm0 220h160v-160H400v160ZM180-400h160v-160H180v160Zm440 0h160v-160H620v160ZM180-180h160v-160H180v160Zm440 0h160v-160H620v160Z\"/>\n",
              "  </svg>\n",
              "    </button>\n",
              "\n",
              "  <style>\n",
              "    .colab-df-container {\n",
              "      display:flex;\n",
              "      gap: 12px;\n",
              "    }\n",
              "\n",
              "    .colab-df-convert {\n",
              "      background-color: #E8F0FE;\n",
              "      border: none;\n",
              "      border-radius: 50%;\n",
              "      cursor: pointer;\n",
              "      display: none;\n",
              "      fill: #1967D2;\n",
              "      height: 32px;\n",
              "      padding: 0 0 0 0;\n",
              "      width: 32px;\n",
              "    }\n",
              "\n",
              "    .colab-df-convert:hover {\n",
              "      background-color: #E2EBFA;\n",
              "      box-shadow: 0px 1px 2px rgba(60, 64, 67, 0.3), 0px 1px 3px 1px rgba(60, 64, 67, 0.15);\n",
              "      fill: #174EA6;\n",
              "    }\n",
              "\n",
              "    .colab-df-buttons div {\n",
              "      margin-bottom: 4px;\n",
              "    }\n",
              "\n",
              "    [theme=dark] .colab-df-convert {\n",
              "      background-color: #3B4455;\n",
              "      fill: #D2E3FC;\n",
              "    }\n",
              "\n",
              "    [theme=dark] .colab-df-convert:hover {\n",
              "      background-color: #434B5C;\n",
              "      box-shadow: 0px 1px 3px 1px rgba(0, 0, 0, 0.15);\n",
              "      filter: drop-shadow(0px 1px 2px rgba(0, 0, 0, 0.3));\n",
              "      fill: #FFFFFF;\n",
              "    }\n",
              "  </style>\n",
              "\n",
              "    <script>\n",
              "      const buttonEl =\n",
              "        document.querySelector('#df-e253ef0c-cd47-4862-9fe0-a0f1024ef0a7 button.colab-df-convert');\n",
              "      buttonEl.style.display =\n",
              "        google.colab.kernel.accessAllowed ? 'block' : 'none';\n",
              "\n",
              "      async function convertToInteractive(key) {\n",
              "        const element = document.querySelector('#df-e253ef0c-cd47-4862-9fe0-a0f1024ef0a7');\n",
              "        const dataTable =\n",
              "          await google.colab.kernel.invokeFunction('convertToInteractive',\n",
              "                                                    [key], {});\n",
              "        if (!dataTable) return;\n",
              "\n",
              "        const docLinkHtml = 'Like what you see? Visit the ' +\n",
              "          '<a target=\"_blank\" href=https://colab.research.google.com/notebooks/data_table.ipynb>data table notebook</a>'\n",
              "          + ' to learn more about interactive tables.';\n",
              "        element.innerHTML = '';\n",
              "        dataTable['output_type'] = 'display_data';\n",
              "        await google.colab.output.renderOutput(dataTable, element);\n",
              "        const docLink = document.createElement('div');\n",
              "        docLink.innerHTML = docLinkHtml;\n",
              "        element.appendChild(docLink);\n",
              "      }\n",
              "    </script>\n",
              "  </div>\n",
              "\n",
              "\n",
              "<div id=\"df-9022fa40-fb3f-4eb2-8140-6c9cd1febb3f\">\n",
              "  <button class=\"colab-df-quickchart\" onclick=\"quickchart('df-9022fa40-fb3f-4eb2-8140-6c9cd1febb3f')\"\n",
              "            title=\"Suggest charts\"\n",
              "            style=\"display:none;\">\n",
              "\n",
              "<svg xmlns=\"http://www.w3.org/2000/svg\" height=\"24px\"viewBox=\"0 0 24 24\"\n",
              "     width=\"24px\">\n",
              "    <g>\n",
              "        <path d=\"M19 3H5c-1.1 0-2 .9-2 2v14c0 1.1.9 2 2 2h14c1.1 0 2-.9 2-2V5c0-1.1-.9-2-2-2zM9 17H7v-7h2v7zm4 0h-2V7h2v10zm4 0h-2v-4h2v4z\"/>\n",
              "    </g>\n",
              "</svg>\n",
              "  </button>\n",
              "\n",
              "<style>\n",
              "  .colab-df-quickchart {\n",
              "      --bg-color: #E8F0FE;\n",
              "      --fill-color: #1967D2;\n",
              "      --hover-bg-color: #E2EBFA;\n",
              "      --hover-fill-color: #174EA6;\n",
              "      --disabled-fill-color: #AAA;\n",
              "      --disabled-bg-color: #DDD;\n",
              "  }\n",
              "\n",
              "  [theme=dark] .colab-df-quickchart {\n",
              "      --bg-color: #3B4455;\n",
              "      --fill-color: #D2E3FC;\n",
              "      --hover-bg-color: #434B5C;\n",
              "      --hover-fill-color: #FFFFFF;\n",
              "      --disabled-bg-color: #3B4455;\n",
              "      --disabled-fill-color: #666;\n",
              "  }\n",
              "\n",
              "  .colab-df-quickchart {\n",
              "    background-color: var(--bg-color);\n",
              "    border: none;\n",
              "    border-radius: 50%;\n",
              "    cursor: pointer;\n",
              "    display: none;\n",
              "    fill: var(--fill-color);\n",
              "    height: 32px;\n",
              "    padding: 0;\n",
              "    width: 32px;\n",
              "  }\n",
              "\n",
              "  .colab-df-quickchart:hover {\n",
              "    background-color: var(--hover-bg-color);\n",
              "    box-shadow: 0 1px 2px rgba(60, 64, 67, 0.3), 0 1px 3px 1px rgba(60, 64, 67, 0.15);\n",
              "    fill: var(--button-hover-fill-color);\n",
              "  }\n",
              "\n",
              "  .colab-df-quickchart-complete:disabled,\n",
              "  .colab-df-quickchart-complete:disabled:hover {\n",
              "    background-color: var(--disabled-bg-color);\n",
              "    fill: var(--disabled-fill-color);\n",
              "    box-shadow: none;\n",
              "  }\n",
              "\n",
              "  .colab-df-spinner {\n",
              "    border: 2px solid var(--fill-color);\n",
              "    border-color: transparent;\n",
              "    border-bottom-color: var(--fill-color);\n",
              "    animation:\n",
              "      spin 1s steps(1) infinite;\n",
              "  }\n",
              "\n",
              "  @keyframes spin {\n",
              "    0% {\n",
              "      border-color: transparent;\n",
              "      border-bottom-color: var(--fill-color);\n",
              "      border-left-color: var(--fill-color);\n",
              "    }\n",
              "    20% {\n",
              "      border-color: transparent;\n",
              "      border-left-color: var(--fill-color);\n",
              "      border-top-color: var(--fill-color);\n",
              "    }\n",
              "    30% {\n",
              "      border-color: transparent;\n",
              "      border-left-color: var(--fill-color);\n",
              "      border-top-color: var(--fill-color);\n",
              "      border-right-color: var(--fill-color);\n",
              "    }\n",
              "    40% {\n",
              "      border-color: transparent;\n",
              "      border-right-color: var(--fill-color);\n",
              "      border-top-color: var(--fill-color);\n",
              "    }\n",
              "    60% {\n",
              "      border-color: transparent;\n",
              "      border-right-color: var(--fill-color);\n",
              "    }\n",
              "    80% {\n",
              "      border-color: transparent;\n",
              "      border-right-color: var(--fill-color);\n",
              "      border-bottom-color: var(--fill-color);\n",
              "    }\n",
              "    90% {\n",
              "      border-color: transparent;\n",
              "      border-bottom-color: var(--fill-color);\n",
              "    }\n",
              "  }\n",
              "</style>\n",
              "\n",
              "  <script>\n",
              "    async function quickchart(key) {\n",
              "      const quickchartButtonEl =\n",
              "        document.querySelector('#' + key + ' button');\n",
              "      quickchartButtonEl.disabled = true;  // To prevent multiple clicks.\n",
              "      quickchartButtonEl.classList.add('colab-df-spinner');\n",
              "      try {\n",
              "        const charts = await google.colab.kernel.invokeFunction(\n",
              "            'suggestCharts', [key], {});\n",
              "      } catch (error) {\n",
              "        console.error('Error during call to suggestCharts:', error);\n",
              "      }\n",
              "      quickchartButtonEl.classList.remove('colab-df-spinner');\n",
              "      quickchartButtonEl.classList.add('colab-df-quickchart-complete');\n",
              "    }\n",
              "    (() => {\n",
              "      let quickchartButtonEl =\n",
              "        document.querySelector('#df-9022fa40-fb3f-4eb2-8140-6c9cd1febb3f button');\n",
              "      quickchartButtonEl.style.display =\n",
              "        google.colab.kernel.accessAllowed ? 'block' : 'none';\n",
              "    })();\n",
              "  </script>\n",
              "</div>\n",
              "    </div>\n",
              "  </div>\n"
            ]
          },
          "metadata": {},
          "execution_count": 5
        }
      ]
    },
    {
      "cell_type": "code",
      "source": [
        "cancer.drop([\"id\",\"Unnamed: 32\"],axis=1,inplace=True)\n"
      ],
      "metadata": {
        "id": "ixBmmJ9HOpVC"
      },
      "execution_count": null,
      "outputs": []
    },
    {
      "cell_type": "code",
      "source": [
        "cancer['diagnosis'].value_counts()"
      ],
      "metadata": {
        "colab": {
          "base_uri": "https://localhost:8080/"
        },
        "id": "Dht0XSj9P35n",
        "outputId": "b1817173-2ff4-4638-ec55-c634c4e08969"
      },
      "execution_count": null,
      "outputs": [
        {
          "output_type": "execute_result",
          "data": {
            "text/plain": [
              "0    357\n",
              "1    212\n",
              "Name: diagnosis, dtype: int64"
            ]
          },
          "metadata": {},
          "execution_count": 7
        }
      ]
    },
    {
      "cell_type": "code",
      "source": [
        "cancer.shape"
      ],
      "metadata": {
        "colab": {
          "base_uri": "https://localhost:8080/"
        },
        "id": "tBZB67UOROBq",
        "outputId": "91b1c19e-02fe-48d1-a656-4b31b41f0438"
      },
      "execution_count": null,
      "outputs": [
        {
          "output_type": "execute_result",
          "data": {
            "text/plain": [
              "(569, 31)"
            ]
          },
          "metadata": {},
          "execution_count": 8
        }
      ]
    },
    {
      "cell_type": "code",
      "source": [
        "X=cancer.drop(columns='diagnosis',axis=1)\n",
        "Y=cancer['diagnosis']\n",
        "\n",
        "X_train,X_test,Y_train,Y_test=train_test_split(X,Y,train_size=0.8,random_state=2)"
      ],
      "metadata": {
        "id": "1YaMArR1QDGG"
      },
      "execution_count": null,
      "outputs": []
    },
    {
      "cell_type": "code",
      "source": [
        "#Standardize the data\n",
        "from sklearn.preprocessing import StandardScaler"
      ],
      "metadata": {
        "id": "42nSwSXHmPsw"
      },
      "execution_count": null,
      "outputs": []
    },
    {
      "cell_type": "code",
      "source": [
        "scaler=StandardScaler()\n",
        "X_train_std=scaler.fit_transform(X_train)\n",
        "X_test_std=scaler.fit(X_test)"
      ],
      "metadata": {
        "id": "5qctwV3Xmiw7"
      },
      "execution_count": 34,
      "outputs": []
    },
    {
      "cell_type": "code",
      "source": [
        "X_train.shape"
      ],
      "metadata": {
        "colab": {
          "base_uri": "https://localhost:8080/"
        },
        "id": "VMKofL7NX89o",
        "outputId": "42bd9370-881a-474d-e787-e43a7b51f470"
      },
      "execution_count": null,
      "outputs": [
        {
          "output_type": "execute_result",
          "data": {
            "text/plain": [
              "(455, 30)"
            ]
          },
          "metadata": {},
          "execution_count": 12
        }
      ]
    },
    {
      "cell_type": "markdown",
      "source": [
        "**Breast cancer with deep neural network**"
      ],
      "metadata": {
        "id": "DQ6dTvpvCIvK"
      }
    },
    {
      "cell_type": "code",
      "source": [
        "#importing tensor flow\n",
        "import tensorflow as tf"
      ],
      "metadata": {
        "id": "n5LF5-GjCZ0D"
      },
      "execution_count": null,
      "outputs": []
    },
    {
      "cell_type": "code",
      "source": [
        "tf.random.set_seed(42)"
      ],
      "metadata": {
        "id": "iyqrITJ0CjIO"
      },
      "execution_count": null,
      "outputs": []
    },
    {
      "cell_type": "markdown",
      "source": [
        "# **setting up the layers of Neural network**"
      ],
      "metadata": {
        "id": "mMLh1GSTFfqy"
      }
    },
    {
      "cell_type": "code",
      "source": [
        "# Creating the model\n",
        "model=tf.keras.Sequential([\n",
        "    tf.keras.layers.Flatten(input_shape=(30,)),# First input layer  and flatten means to cobnvert  matrix into one Dimensional array\n",
        "    tf.keras.layers.Dense(30,activation='relu'),# Hidden layer\n",
        "    tf.keras.layers.Dense(2,activation='sigmoid'), # ouput layer 2 because we have two classes i.e M or B\n",
        "])"
      ],
      "metadata": {
        "id": "eiElQk2lFq8E"
      },
      "execution_count": null,
      "outputs": []
    },
    {
      "cell_type": "code",
      "source": [
        "#Compiling the model\n",
        "model.compile(optimizer='adam',\n",
        "loss='sparse_categorical_crossentropy',\n",
        "              metrics=['accuracy'])"
      ],
      "metadata": {
        "id": "RWL9Ayr4SDdX"
      },
      "execution_count": null,
      "outputs": []
    },
    {
      "cell_type": "code",
      "source": [
        "#training Neural network\n",
        "hisotry=model.fit(X_train_std,Y_train,validation_split=0.1,epochs=70)"
      ],
      "metadata": {
        "colab": {
          "base_uri": "https://localhost:8080/"
        },
        "id": "rPCk__QXSzuS",
        "outputId": "25c21316-8289-4209-8155-bfc7fbb9b1b6"
      },
      "execution_count": null,
      "outputs": [
        {
          "output_type": "stream",
          "name": "stdout",
          "text": [
            "Epoch 1/70\n",
            "13/13 [==============================] - 1s 20ms/step - loss: 0.7719 - accuracy: 0.4597 - val_loss: 0.5667 - val_accuracy: 0.8043\n",
            "Epoch 2/70\n",
            "13/13 [==============================] - 0s 5ms/step - loss: 0.4605 - accuracy: 0.8411 - val_loss: 0.3658 - val_accuracy: 0.9783\n",
            "Epoch 3/70\n",
            "13/13 [==============================] - 0s 7ms/step - loss: 0.3284 - accuracy: 0.9193 - val_loss: 0.2740 - val_accuracy: 0.9783\n",
            "Epoch 4/70\n",
            "13/13 [==============================] - 0s 6ms/step - loss: 0.2609 - accuracy: 0.9291 - val_loss: 0.2227 - val_accuracy: 0.9783\n",
            "Epoch 5/70\n",
            "13/13 [==============================] - 0s 6ms/step - loss: 0.2176 - accuracy: 0.9389 - val_loss: 0.1919 - val_accuracy: 0.9783\n",
            "Epoch 6/70\n",
            "13/13 [==============================] - 0s 6ms/step - loss: 0.1878 - accuracy: 0.9462 - val_loss: 0.1702 - val_accuracy: 0.9783\n",
            "Epoch 7/70\n",
            "13/13 [==============================] - 0s 7ms/step - loss: 0.1668 - accuracy: 0.9535 - val_loss: 0.1548 - val_accuracy: 0.9783\n",
            "Epoch 8/70\n",
            "13/13 [==============================] - 0s 5ms/step - loss: 0.1505 - accuracy: 0.9633 - val_loss: 0.1432 - val_accuracy: 0.9783\n",
            "Epoch 9/70\n",
            "13/13 [==============================] - 0s 6ms/step - loss: 0.1377 - accuracy: 0.9633 - val_loss: 0.1339 - val_accuracy: 0.9783\n",
            "Epoch 10/70\n",
            "13/13 [==============================] - 0s 5ms/step - loss: 0.1266 - accuracy: 0.9682 - val_loss: 0.1267 - val_accuracy: 0.9783\n",
            "Epoch 11/70\n",
            "13/13 [==============================] - 0s 6ms/step - loss: 0.1180 - accuracy: 0.9707 - val_loss: 0.1199 - val_accuracy: 0.9783\n",
            "Epoch 12/70\n",
            "13/13 [==============================] - 0s 4ms/step - loss: 0.1094 - accuracy: 0.9731 - val_loss: 0.1145 - val_accuracy: 0.9783\n",
            "Epoch 13/70\n",
            "13/13 [==============================] - 0s 5ms/step - loss: 0.1029 - accuracy: 0.9731 - val_loss: 0.1102 - val_accuracy: 0.9783\n",
            "Epoch 14/70\n",
            "13/13 [==============================] - 0s 4ms/step - loss: 0.0975 - accuracy: 0.9731 - val_loss: 0.1057 - val_accuracy: 0.9783\n",
            "Epoch 15/70\n",
            "13/13 [==============================] - 0s 5ms/step - loss: 0.0917 - accuracy: 0.9756 - val_loss: 0.1031 - val_accuracy: 0.9783\n",
            "Epoch 16/70\n",
            "13/13 [==============================] - 0s 6ms/step - loss: 0.0872 - accuracy: 0.9780 - val_loss: 0.0994 - val_accuracy: 0.9783\n",
            "Epoch 17/70\n",
            "13/13 [==============================] - 0s 5ms/step - loss: 0.0832 - accuracy: 0.9804 - val_loss: 0.0963 - val_accuracy: 0.9783\n",
            "Epoch 18/70\n",
            "13/13 [==============================] - 0s 5ms/step - loss: 0.0794 - accuracy: 0.9804 - val_loss: 0.0940 - val_accuracy: 0.9783\n",
            "Epoch 19/70\n",
            "13/13 [==============================] - 0s 5ms/step - loss: 0.0761 - accuracy: 0.9804 - val_loss: 0.0920 - val_accuracy: 0.9783\n",
            "Epoch 20/70\n",
            "13/13 [==============================] - 0s 6ms/step - loss: 0.0732 - accuracy: 0.9804 - val_loss: 0.0888 - val_accuracy: 0.9783\n",
            "Epoch 21/70\n",
            "13/13 [==============================] - 0s 7ms/step - loss: 0.0707 - accuracy: 0.9804 - val_loss: 0.0879 - val_accuracy: 0.9783\n",
            "Epoch 22/70\n",
            "13/13 [==============================] - 0s 6ms/step - loss: 0.0683 - accuracy: 0.9829 - val_loss: 0.0854 - val_accuracy: 0.9783\n",
            "Epoch 23/70\n",
            "13/13 [==============================] - 0s 6ms/step - loss: 0.0659 - accuracy: 0.9853 - val_loss: 0.0829 - val_accuracy: 0.9783\n",
            "Epoch 24/70\n",
            "13/13 [==============================] - 0s 5ms/step - loss: 0.0640 - accuracy: 0.9853 - val_loss: 0.0822 - val_accuracy: 0.9783\n",
            "Epoch 25/70\n",
            "13/13 [==============================] - 0s 6ms/step - loss: 0.0620 - accuracy: 0.9853 - val_loss: 0.0798 - val_accuracy: 0.9783\n",
            "Epoch 26/70\n",
            "13/13 [==============================] - 0s 5ms/step - loss: 0.0601 - accuracy: 0.9853 - val_loss: 0.0779 - val_accuracy: 0.9783\n",
            "Epoch 27/70\n",
            "13/13 [==============================] - 0s 6ms/step - loss: 0.0585 - accuracy: 0.9878 - val_loss: 0.0775 - val_accuracy: 0.9783\n",
            "Epoch 28/70\n",
            "13/13 [==============================] - 0s 6ms/step - loss: 0.0570 - accuracy: 0.9878 - val_loss: 0.0749 - val_accuracy: 0.9783\n",
            "Epoch 29/70\n",
            "13/13 [==============================] - 0s 5ms/step - loss: 0.0553 - accuracy: 0.9878 - val_loss: 0.0737 - val_accuracy: 0.9783\n",
            "Epoch 30/70\n",
            "13/13 [==============================] - 0s 5ms/step - loss: 0.0540 - accuracy: 0.9878 - val_loss: 0.0726 - val_accuracy: 0.9783\n",
            "Epoch 31/70\n",
            "13/13 [==============================] - 0s 6ms/step - loss: 0.0527 - accuracy: 0.9902 - val_loss: 0.0706 - val_accuracy: 0.9783\n",
            "Epoch 32/70\n",
            "13/13 [==============================] - 0s 5ms/step - loss: 0.0514 - accuracy: 0.9902 - val_loss: 0.0705 - val_accuracy: 0.9783\n",
            "Epoch 33/70\n",
            "13/13 [==============================] - 0s 5ms/step - loss: 0.0503 - accuracy: 0.9902 - val_loss: 0.0679 - val_accuracy: 0.9783\n",
            "Epoch 34/70\n",
            "13/13 [==============================] - 0s 7ms/step - loss: 0.0490 - accuracy: 0.9902 - val_loss: 0.0683 - val_accuracy: 0.9783\n",
            "Epoch 35/70\n",
            "13/13 [==============================] - 0s 6ms/step - loss: 0.0478 - accuracy: 0.9902 - val_loss: 0.0668 - val_accuracy: 0.9783\n",
            "Epoch 36/70\n",
            "13/13 [==============================] - 0s 5ms/step - loss: 0.0468 - accuracy: 0.9902 - val_loss: 0.0652 - val_accuracy: 0.9783\n",
            "Epoch 37/70\n",
            "13/13 [==============================] - 0s 4ms/step - loss: 0.0457 - accuracy: 0.9902 - val_loss: 0.0645 - val_accuracy: 0.9783\n",
            "Epoch 38/70\n",
            "13/13 [==============================] - 0s 4ms/step - loss: 0.0446 - accuracy: 0.9902 - val_loss: 0.0630 - val_accuracy: 0.9783\n",
            "Epoch 39/70\n",
            "13/13 [==============================] - 0s 5ms/step - loss: 0.0437 - accuracy: 0.9902 - val_loss: 0.0627 - val_accuracy: 0.9783\n",
            "Epoch 40/70\n",
            "13/13 [==============================] - 0s 5ms/step - loss: 0.0429 - accuracy: 0.9927 - val_loss: 0.0608 - val_accuracy: 0.9783\n",
            "Epoch 41/70\n",
            "13/13 [==============================] - 0s 4ms/step - loss: 0.0421 - accuracy: 0.9927 - val_loss: 0.0600 - val_accuracy: 0.9783\n",
            "Epoch 42/70\n",
            "13/13 [==============================] - 0s 5ms/step - loss: 0.0411 - accuracy: 0.9927 - val_loss: 0.0601 - val_accuracy: 0.9783\n",
            "Epoch 43/70\n",
            "13/13 [==============================] - 0s 6ms/step - loss: 0.0404 - accuracy: 0.9927 - val_loss: 0.0596 - val_accuracy: 0.9783\n",
            "Epoch 44/70\n",
            "13/13 [==============================] - 0s 5ms/step - loss: 0.0396 - accuracy: 0.9927 - val_loss: 0.0584 - val_accuracy: 0.9783\n",
            "Epoch 45/70\n",
            "13/13 [==============================] - 0s 6ms/step - loss: 0.0388 - accuracy: 0.9927 - val_loss: 0.0576 - val_accuracy: 0.9783\n",
            "Epoch 46/70\n",
            "13/13 [==============================] - 0s 6ms/step - loss: 0.0381 - accuracy: 0.9927 - val_loss: 0.0580 - val_accuracy: 0.9783\n",
            "Epoch 47/70\n",
            "13/13 [==============================] - 0s 5ms/step - loss: 0.0374 - accuracy: 0.9927 - val_loss: 0.0561 - val_accuracy: 0.9783\n",
            "Epoch 48/70\n",
            "13/13 [==============================] - 0s 7ms/step - loss: 0.0368 - accuracy: 0.9927 - val_loss: 0.0557 - val_accuracy: 0.9783\n",
            "Epoch 49/70\n",
            "13/13 [==============================] - 0s 5ms/step - loss: 0.0361 - accuracy: 0.9927 - val_loss: 0.0545 - val_accuracy: 0.9783\n",
            "Epoch 50/70\n",
            "13/13 [==============================] - 0s 5ms/step - loss: 0.0354 - accuracy: 0.9927 - val_loss: 0.0546 - val_accuracy: 0.9783\n",
            "Epoch 51/70\n",
            "13/13 [==============================] - 0s 5ms/step - loss: 0.0347 - accuracy: 0.9927 - val_loss: 0.0541 - val_accuracy: 0.9783\n",
            "Epoch 52/70\n",
            "13/13 [==============================] - 0s 6ms/step - loss: 0.0342 - accuracy: 0.9927 - val_loss: 0.0543 - val_accuracy: 0.9783\n",
            "Epoch 53/70\n",
            "13/13 [==============================] - 0s 4ms/step - loss: 0.0337 - accuracy: 0.9927 - val_loss: 0.0528 - val_accuracy: 0.9783\n",
            "Epoch 54/70\n",
            "13/13 [==============================] - 0s 7ms/step - loss: 0.0331 - accuracy: 0.9927 - val_loss: 0.0539 - val_accuracy: 0.9565\n",
            "Epoch 55/70\n",
            "13/13 [==============================] - 0s 7ms/step - loss: 0.0327 - accuracy: 0.9927 - val_loss: 0.0524 - val_accuracy: 0.9783\n",
            "Epoch 56/70\n",
            "13/13 [==============================] - 0s 6ms/step - loss: 0.0319 - accuracy: 0.9927 - val_loss: 0.0527 - val_accuracy: 0.9783\n",
            "Epoch 57/70\n",
            "13/13 [==============================] - 0s 7ms/step - loss: 0.0313 - accuracy: 0.9927 - val_loss: 0.0520 - val_accuracy: 0.9565\n",
            "Epoch 58/70\n",
            "13/13 [==============================] - 0s 7ms/step - loss: 0.0308 - accuracy: 0.9927 - val_loss: 0.0515 - val_accuracy: 0.9565\n",
            "Epoch 59/70\n",
            "13/13 [==============================] - 0s 6ms/step - loss: 0.0302 - accuracy: 0.9927 - val_loss: 0.0522 - val_accuracy: 0.9565\n",
            "Epoch 60/70\n",
            "13/13 [==============================] - 0s 9ms/step - loss: 0.0298 - accuracy: 0.9927 - val_loss: 0.0518 - val_accuracy: 0.9565\n",
            "Epoch 61/70\n",
            "13/13 [==============================] - 0s 6ms/step - loss: 0.0292 - accuracy: 0.9927 - val_loss: 0.0515 - val_accuracy: 0.9565\n",
            "Epoch 62/70\n",
            "13/13 [==============================] - 0s 6ms/step - loss: 0.0287 - accuracy: 0.9927 - val_loss: 0.0507 - val_accuracy: 0.9565\n",
            "Epoch 63/70\n",
            "13/13 [==============================] - 0s 7ms/step - loss: 0.0284 - accuracy: 0.9927 - val_loss: 0.0517 - val_accuracy: 0.9565\n",
            "Epoch 64/70\n",
            "13/13 [==============================] - 0s 8ms/step - loss: 0.0276 - accuracy: 0.9927 - val_loss: 0.0508 - val_accuracy: 0.9565\n",
            "Epoch 65/70\n",
            "13/13 [==============================] - 0s 6ms/step - loss: 0.0272 - accuracy: 0.9927 - val_loss: 0.0502 - val_accuracy: 0.9565\n",
            "Epoch 66/70\n",
            "13/13 [==============================] - 0s 7ms/step - loss: 0.0268 - accuracy: 0.9927 - val_loss: 0.0509 - val_accuracy: 0.9565\n",
            "Epoch 67/70\n",
            "13/13 [==============================] - 0s 6ms/step - loss: 0.0263 - accuracy: 0.9927 - val_loss: 0.0501 - val_accuracy: 0.9565\n",
            "Epoch 68/70\n",
            "13/13 [==============================] - 0s 8ms/step - loss: 0.0258 - accuracy: 0.9927 - val_loss: 0.0489 - val_accuracy: 0.9565\n",
            "Epoch 69/70\n",
            "13/13 [==============================] - 0s 6ms/step - loss: 0.0253 - accuracy: 0.9927 - val_loss: 0.0490 - val_accuracy: 0.9565\n",
            "Epoch 70/70\n",
            "13/13 [==============================] - 0s 7ms/step - loss: 0.0250 - accuracy: 0.9927 - val_loss: 0.0499 - val_accuracy: 0.9565\n"
          ]
        }
      ]
    },
    {
      "cell_type": "code",
      "source": [
        "#visualizing accuracy\n",
        "\n",
        "plt.plot(hisotry.history['accuracy'])\n",
        "plt.plot(hisotry.history['val_accuracy'])\n",
        "\n",
        "plt.title('model accuracy')\n",
        "plt.ylabel('accuracy')\n",
        "plt.xlabel('epoch')\n",
        "plt.legend(['training data','validation data'])\n",
        "\n",
        "\n",
        "\n"
      ],
      "metadata": {
        "colab": {
          "base_uri": "https://localhost:8080/",
          "height": 489
        },
        "id": "bd2w1yCSyn3Y",
        "outputId": "34c507a0-a535-4a78-d4f0-1907432e4d8c"
      },
      "execution_count": null,
      "outputs": [
        {
          "output_type": "execute_result",
          "data": {
            "text/plain": [
              "<matplotlib.legend.Legend at 0x7f15598c26e0>"
            ]
          },
          "metadata": {},
          "execution_count": 24
        },
        {
          "output_type": "display_data",
          "data": {
            "text/plain": [
              "<Figure size 640x480 with 1 Axes>"
            ],
            "image/png": "[encoded data removed]"
          },
          "metadata": {}
        }
      ]
    },
    {
      "cell_type": "code",
      "source": [
        "#visualizing  losss\n",
        "plt.plot(hisotry.history['loss'])\n",
        "plt.plot(hisotry.history['val_loss'])\n",
        "\n",
        "plt.title('model loss')\n",
        "plt.ylabel('loss')\n",
        "plt.xlabel('epoch')\n",
        "plt.legend(['training data','validation data'])"
      ],
      "metadata": {
        "id": "4NF-40vu1hwl",
        "colab": {
          "base_uri": "https://localhost:8080/",
          "height": 489
        },
        "outputId": "c4322bb5-1032-46c3-c102-7d14a33c0e1f"
      },
      "execution_count": null,
      "outputs": [
        {
          "output_type": "execute_result",
          "data": {
            "text/plain": [
              "<matplotlib.legend.Legend at 0x7f155c492380>"
            ]
          },
          "metadata": {},
          "execution_count": 19
        },
        {
          "output_type": "display_data",
          "data": {
            "text/plain": [
              "<Figure size 640x480 with 1 Axes>"
            ],
            "image/png": "[encoded data removed]"
          },
          "metadata": {}
        }
      ]
    },
    {
      "cell_type": "code",
      "source": [
        "tf.keras.Model.save"
      ],
      "metadata": {
        "colab": {
          "base_uri": "https://localhost:8080/"
        },
        "id": "jVQ7igLCFLvZ",
        "outputId": "dd20bb0c-91f2-4303-ccf1-1bf71e38f3c8"
      },
      "execution_count": 36,
      "outputs": [
        {
          "output_type": "execute_result",
          "data": {
            "text/plain": [
              "<function keras.src.engine.training.Model.save(self, filepath, overwrite=True, save_format=None, **kwargs)>"
            ]
          },
          "metadata": {},
          "execution_count": 36
        }
      ]
    },
    {
      "cell_type": "code",
      "source": [],
      "metadata": {
        "id": "Blgj4PrvFPLm"
      },
      "execution_count": null,
      "outputs": []
    }
  ]
}